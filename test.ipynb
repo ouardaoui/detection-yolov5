{
 "cells": [
  {
   "cell_type": "code",
   "execution_count": 1,
   "metadata": {},
   "outputs": [
    {
     "name": "stdout",
     "output_type": "stream",
     "text": [
      "Looking in links: https://download.pytorch.org/whl/lts/1.8/torch_lts.html\n",
      "Collecting torch==1.8.2+cu102\n",
      "  Downloading https://download.pytorch.org/whl/lts/1.8/cu102/torch-1.8.2%2Bcu102-cp36-cp36m-linux_x86_64.whl (804.1 MB)\n",
      "\u001b[K     |████████████████████████████████| 804.1 MB 5.0 kB/s eta 0:00:012   |▋                               | 16.1 MB 2.7 MB/s eta 0:04:53     |█████████████████████▏          | 530.6 MB 3.1 MB/s eta 0:01:28     |████████████████████████▋       | 618.7 MB 4.1 MB/s eta 0:00:45█████▏ | 758.3 MB 3.6 MB/s eta 0:00:13\n",
      "\u001b[?25hCollecting torchvision==0.9.2+cu102\n",
      "  Downloading https://download.pytorch.org/whl/lts/1.8/cu102/torchvision-0.9.2%2Bcu102-cp36-cp36m-linux_x86_64.whl (17.3 MB)\n",
      "\u001b[K     |████████████████████████████████| 17.3 MB 10 kB/s  eta 0:00:01\n",
      "\u001b[?25hCollecting torchaudio==0.8.2\n",
      "  Downloading https://download.pytorch.org/whl/lts/1.8/torchaudio-0.8.2-cp36-cp36m-linux_x86_64.whl (1.9 MB)\n",
      "\u001b[K     |████████████████████████████████| 1.9 MB 5.1 MB/s eta 0:00:01\n",
      "\u001b[?25hRequirement already satisfied: typing-extensions in /home/ayoub/anaconda3/lib/python3.6/site-packages (from torch==1.8.2+cu102) (3.10.0.0)\n",
      "Requirement already satisfied: numpy in /home/ayoub/anaconda3/lib/python3.6/site-packages (from torch==1.8.2+cu102) (1.19.2)\n",
      "Collecting dataclasses\n",
      "  Using cached dataclasses-0.8-py3-none-any.whl (19 kB)\n",
      "Requirement already satisfied: pillow>=4.1.1 in /home/ayoub/anaconda3/lib/python3.6/site-packages (from torchvision==0.9.2+cu102) (8.3.1)\n",
      "Installing collected packages: dataclasses, torch, torchvision, torchaudio\n",
      "Successfully installed dataclasses-0.8 torch-1.8.2+cu102 torchaudio-0.8.2 torchvision-0.9.2+cu102\n"
     ]
    }
   ],
   "source": [
    "!pip3 install torch==1.8.2+cu102 torchvision==0.9.2+cu102 torchaudio==0.8.2 -f https://download.pytorch.org/whl/lts/1.8/torch_lts.html\n",
    "    "
   ]
  },
  {
   "cell_type": "code",
   "execution_count": null,
   "metadata": {},
   "outputs": [],
   "source": []
  },
  {
   "cell_type": "code",
   "execution_count": null,
   "metadata": {},
   "outputs": [],
   "source": []
  },
  {
   "cell_type": "code",
   "execution_count": 3,
   "metadata": {},
   "outputs": [
    {
     "name": "stdout",
     "output_type": "stream",
     "text": [
      "fatal: destination path 'yolov5' already exists and is not an empty directory.\r\n"
     ]
    }
   ],
   "source": [
    "!git clone https://github.com/ultralytics/yolov5\n",
    "    "
   ]
  },
  {
   "cell_type": "code",
   "execution_count": 4,
   "metadata": {},
   "outputs": [],
   "source": [
    "!cd yolov5\n"
   ]
  },
  {
   "cell_type": "code",
   "execution_count": 9,
   "metadata": {},
   "outputs": [],
   "source": [
    "!cd yolov5\n"
   ]
  },
  {
   "cell_type": "code",
   "execution_count": 11,
   "metadata": {},
   "outputs": [
    {
     "name": "stdout",
     "output_type": "stream",
     "text": [
      "/home/ayoub/Desktop/hakima /yolov5\n"
     ]
    }
   ],
   "source": [
    "cd yolov5\n"
   ]
  },
  {
   "cell_type": "code",
   "execution_count": 13,
   "metadata": {},
   "outputs": [
    {
     "name": "stdout",
     "output_type": "stream",
     "text": [
      "Requirement already satisfied: matplotlib>=3.2.2 in /home/ayoub/anaconda3/lib/python3.6/site-packages (from -r requirements.txt (line 4)) (3.3.4)\n",
      "Requirement already satisfied: numpy>=1.18.5 in /home/ayoub/anaconda3/lib/python3.6/site-packages (from -r requirements.txt (line 5)) (1.19.2)\n",
      "Collecting opencv-python>=4.1.2\n",
      "  Downloading opencv_python-4.5.3.56-cp36-cp36m-manylinux2014_x86_64.whl (49.9 MB)\n",
      "\u001b[K     |████████████████████████████████| 49.9 MB 3.3 MB/s eta 0:00:01\n",
      "\u001b[?25hRequirement already satisfied: Pillow>=7.1.2 in /home/ayoub/anaconda3/lib/python3.6/site-packages (from -r requirements.txt (line 7)) (8.3.1)\n",
      "Requirement already satisfied: PyYAML>=5.3.1 in /home/ayoub/anaconda3/lib/python3.6/site-packages (from -r requirements.txt (line 8)) (5.4.1)\n",
      "Requirement already satisfied: requests>=2.23.0 in /home/ayoub/anaconda3/lib/python3.6/site-packages (from -r requirements.txt (line 9)) (2.25.1)\n",
      "Requirement already satisfied: scipy>=1.4.1 in /home/ayoub/anaconda3/lib/python3.6/site-packages (from -r requirements.txt (line 10)) (1.5.2)\n",
      "Requirement already satisfied: torch>=1.7.0 in /home/ayoub/anaconda3/lib/python3.6/site-packages (from -r requirements.txt (line 11)) (1.8.2+cu102)\n",
      "Requirement already satisfied: torchvision>=0.8.1 in /home/ayoub/anaconda3/lib/python3.6/site-packages (from -r requirements.txt (line 12)) (0.9.2+cu102)\n",
      "Requirement already satisfied: tqdm>=4.41.0 in /home/ayoub/anaconda3/lib/python3.6/site-packages (from -r requirements.txt (line 13)) (4.61.2)\n",
      "Collecting tensorboard>=2.4.1\n",
      "  Downloading tensorboard-2.6.0-py3-none-any.whl (5.6 MB)\n",
      "\u001b[K     |████████████████████████████████| 5.6 MB 2.0 MB/s eta 0:00:01\n",
      "\u001b[?25hRequirement already satisfied: pandas>=1.1.4 in /home/ayoub/anaconda3/lib/python3.6/site-packages (from -r requirements.txt (line 20)) (1.1.5)\n",
      "Collecting seaborn>=0.11.0\n",
      "  Downloading seaborn-0.11.2-py3-none-any.whl (292 kB)\n",
      "\u001b[K     |████████████████████████████████| 292 kB 4.5 MB/s eta 0:00:01\n",
      "\u001b[?25hCollecting thop\n",
      "  Downloading thop-0.0.31.post2005241907-py3-none-any.whl (8.7 kB)\n",
      "Requirement already satisfied: cycler>=0.10 in /home/ayoub/anaconda3/lib/python3.6/site-packages (from matplotlib>=3.2.2->-r requirements.txt (line 4)) (0.10.0)\n",
      "Requirement already satisfied: kiwisolver>=1.0.1 in /home/ayoub/anaconda3/lib/python3.6/site-packages (from matplotlib>=3.2.2->-r requirements.txt (line 4)) (1.3.1)\n",
      "Requirement already satisfied: python-dateutil>=2.1 in /home/ayoub/anaconda3/lib/python3.6/site-packages (from matplotlib>=3.2.2->-r requirements.txt (line 4)) (2.8.1)\n",
      "Requirement already satisfied: pyparsing!=2.0.4,!=2.1.2,!=2.1.6,>=2.0.3 in /home/ayoub/anaconda3/lib/python3.6/site-packages (from matplotlib>=3.2.2->-r requirements.txt (line 4)) (2.4.7)\n",
      "Requirement already satisfied: chardet<5,>=3.0.2 in /home/ayoub/anaconda3/lib/python3.6/site-packages (from requests>=2.23.0->-r requirements.txt (line 9)) (4.0.0)\n",
      "Requirement already satisfied: certifi>=2017.4.17 in /home/ayoub/anaconda3/lib/python3.6/site-packages (from requests>=2.23.0->-r requirements.txt (line 9)) (2021.5.30)\n",
      "Requirement already satisfied: idna<3,>=2.5 in /home/ayoub/anaconda3/lib/python3.6/site-packages (from requests>=2.23.0->-r requirements.txt (line 9)) (2.10)\n",
      "Requirement already satisfied: urllib3<1.27,>=1.21.1 in /home/ayoub/anaconda3/lib/python3.6/site-packages (from requests>=2.23.0->-r requirements.txt (line 9)) (1.26.6)\n",
      "Requirement already satisfied: dataclasses in /home/ayoub/anaconda3/lib/python3.6/site-packages (from torch>=1.7.0->-r requirements.txt (line 11)) (0.8)\n",
      "Requirement already satisfied: typing-extensions in /home/ayoub/anaconda3/lib/python3.6/site-packages (from torch>=1.7.0->-r requirements.txt (line 11)) (3.10.0.0)\n",
      "Collecting markdown>=2.6.8\n",
      "  Using cached Markdown-3.3.4-py3-none-any.whl (97 kB)\n",
      "Requirement already satisfied: werkzeug>=0.11.15 in /home/ayoub/anaconda3/lib/python3.6/site-packages (from tensorboard>=2.4.1->-r requirements.txt (line 16)) (1.0.1)\n",
      "Collecting google-auth-oauthlib<0.5,>=0.4.1\n",
      "  Downloading google_auth_oauthlib-0.4.6-py2.py3-none-any.whl (18 kB)\n",
      "Collecting tensorboard-data-server<0.7.0,>=0.6.0\n",
      "  Downloading tensorboard_data_server-0.6.1-py3-none-manylinux2010_x86_64.whl (4.9 MB)\n",
      "\u001b[K     |████████████████████████████████| 4.9 MB 4.9 MB/s eta 0:00:01\n",
      "\u001b[?25hRequirement already satisfied: protobuf>=3.6.0 in /home/ayoub/anaconda3/lib/python3.6/site-packages (from tensorboard>=2.4.1->-r requirements.txt (line 16)) (3.17.3)\n",
      "Requirement already satisfied: wheel>=0.26 in /home/ayoub/anaconda3/lib/python3.6/site-packages (from tensorboard>=2.4.1->-r requirements.txt (line 16)) (0.36.2)\n",
      "Requirement already satisfied: google-auth<2,>=1.6.3 in /home/ayoub/anaconda3/lib/python3.6/site-packages (from tensorboard>=2.4.1->-r requirements.txt (line 16)) (1.35.0)\n",
      "Collecting absl-py>=0.4\n",
      "  Downloading absl_py-0.14.1-py3-none-any.whl (131 kB)\n",
      "\u001b[K     |████████████████████████████████| 131 kB 1.8 MB/s eta 0:00:01\n",
      "\u001b[?25hRequirement already satisfied: grpcio>=1.24.3 in /home/ayoub/anaconda3/lib/python3.6/site-packages (from tensorboard>=2.4.1->-r requirements.txt (line 16)) (1.40.0)\n",
      "Collecting tensorboard-plugin-wit>=1.6.0\n",
      "  Using cached tensorboard_plugin_wit-1.8.0-py3-none-any.whl (781 kB)\n",
      "Requirement already satisfied: setuptools>=41.0.0 in /home/ayoub/anaconda3/lib/python3.6/site-packages (from tensorboard>=2.4.1->-r requirements.txt (line 16)) (52.0.0.post20210125)\n",
      "Requirement already satisfied: pytz>=2017.2 in /home/ayoub/anaconda3/lib/python3.6/site-packages (from pandas>=1.1.4->-r requirements.txt (line 20)) (2021.1)\n",
      "Requirement already satisfied: six in /home/ayoub/anaconda3/lib/python3.6/site-packages (from absl-py>=0.4->tensorboard>=2.4.1->-r requirements.txt (line 16)) (1.16.0)\n",
      "Requirement already satisfied: rsa<5,>=3.1.4 in /home/ayoub/anaconda3/lib/python3.6/site-packages (from google-auth<2,>=1.6.3->tensorboard>=2.4.1->-r requirements.txt (line 16)) (4.7.2)\n",
      "Requirement already satisfied: pyasn1-modules>=0.2.1 in /home/ayoub/anaconda3/lib/python3.6/site-packages (from google-auth<2,>=1.6.3->tensorboard>=2.4.1->-r requirements.txt (line 16)) (0.2.8)\n",
      "Requirement already satisfied: cachetools<5.0,>=2.0.0 in /home/ayoub/anaconda3/lib/python3.6/site-packages (from google-auth<2,>=1.6.3->tensorboard>=2.4.1->-r requirements.txt (line 16)) (4.2.2)\n",
      "Collecting requests-oauthlib>=0.7.0\n",
      "  Using cached requests_oauthlib-1.3.0-py2.py3-none-any.whl (23 kB)\n",
      "Requirement already satisfied: importlib-metadata in /home/ayoub/anaconda3/lib/python3.6/site-packages (from markdown>=2.6.8->tensorboard>=2.4.1->-r requirements.txt (line 16)) (3.10.0)\n",
      "Requirement already satisfied: pyasn1<0.5.0,>=0.4.6 in /home/ayoub/anaconda3/lib/python3.6/site-packages (from pyasn1-modules>=0.2.1->google-auth<2,>=1.6.3->tensorboard>=2.4.1->-r requirements.txt (line 16)) (0.4.8)\n",
      "Collecting oauthlib>=3.0.0\n",
      "  Downloading oauthlib-3.1.1-py2.py3-none-any.whl (146 kB)\n",
      "\u001b[K     |████████████████████████████████| 146 kB 3.8 MB/s eta 0:00:01\n",
      "\u001b[?25hRequirement already satisfied: zipp>=0.5 in /home/ayoub/anaconda3/lib/python3.6/site-packages (from importlib-metadata->markdown>=2.6.8->tensorboard>=2.4.1->-r requirements.txt (line 16)) (3.5.0)\n",
      "Installing collected packages: oauthlib, requests-oauthlib, tensorboard-plugin-wit, tensorboard-data-server, markdown, google-auth-oauthlib, absl-py, thop, tensorboard, seaborn, opencv-python\n",
      "  Attempting uninstall: seaborn\n",
      "    Found existing installation: seaborn 0.10.0\n",
      "    Uninstalling seaborn-0.10.0:\n",
      "      Successfully uninstalled seaborn-0.10.0\n",
      "Successfully installed absl-py-0.14.1 google-auth-oauthlib-0.4.6 markdown-3.3.4 oauthlib-3.1.1 opencv-python-4.5.3.56 requests-oauthlib-1.3.0 seaborn-0.11.2 tensorboard-2.6.0 tensorboard-data-server-0.6.1 tensorboard-plugin-wit-1.8.0 thop-0.0.31.post2005241907\n"
     ]
    }
   ],
   "source": [
    "!pip install -r requirements.txt\n",
    "\n"
   ]
  },
  {
   "cell_type": "code",
   "execution_count": 6,
   "metadata": {},
   "outputs": [],
   "source": [
    "import torch\n",
    "from matplotlib import pyplot as plt\n",
    "import numpy as np\n",
    "import cv2\n"
   ]
  },
  {
   "cell_type": "code",
   "execution_count": 15,
   "metadata": {},
   "outputs": [
    {
     "name": "stderr",
     "output_type": "stream",
     "text": [
      "Downloading: \"https://github.com/ultralytics/yolov5/archive/master.zip\" to /home/ayoub/.cache/torch/hub/master.zip\n"
     ]
    },
    {
     "name": "stdout",
     "output_type": "stream",
     "text": [
      "Downloading https://ultralytics.com/assets/Arial.ttf to /home/ayoub/.config/Ultralytics/Arial.ttf...\n"
     ]
    },
    {
     "name": "stderr",
     "output_type": "stream",
     "text": [
      "YOLOv5 🚀 2021-10-10 torch 1.8.2+cu102 CPU\n",
      "\n"
     ]
    },
    {
     "name": "stdout",
     "output_type": "stream",
     "text": [
      "Downloading https://github.com/ultralytics/yolov5/releases/download/v5.0/yolov5s.pt to /home/ayoub/.cache/torch/hub/ultralytics_yolov5_master/yolov5s.pt...\n"
     ]
    },
    {
     "data": {
      "application/vnd.jupyter.widget-view+json": {
       "model_id": "0360895ba5c049fe80c4b6f5815acd32",
       "version_major": 2,
       "version_minor": 0
      },
      "text/plain": [
       "  0%|          | 0.00/14.1M [00:00<?, ?B/s]"
      ]
     },
     "metadata": {},
     "output_type": "display_data"
    },
    {
     "name": "stderr",
     "output_type": "stream",
     "text": [
      "Fusing layers... \n"
     ]
    },
    {
     "name": "stdout",
     "output_type": "stream",
     "text": [
      "\n"
     ]
    },
    {
     "name": "stderr",
     "output_type": "stream",
     "text": [
      "Model Summary: 224 layers, 7266973 parameters, 0 gradients\n",
      "Adding AutoShape... \n"
     ]
    }
   ],
   "source": [
    "model = torch.hub.load('ultralytics/yolov5', 'yolov5s')\n"
   ]
  },
  {
   "cell_type": "code",
   "execution_count": 16,
   "metadata": {},
   "outputs": [
    {
     "data": {
      "text/plain": [
       "AutoShape(\n",
       "  (model): Model(\n",
       "    (model): Sequential(\n",
       "      (0): Focus(\n",
       "        (conv): Conv(\n",
       "          (conv): Conv2d(12, 32, kernel_size=(3, 3), stride=(1, 1), padding=(1, 1))\n",
       "          (act): SiLU(inplace=True)\n",
       "        )\n",
       "      )\n",
       "      (1): Conv(\n",
       "        (conv): Conv2d(32, 64, kernel_size=(3, 3), stride=(2, 2), padding=(1, 1))\n",
       "        (act): SiLU(inplace=True)\n",
       "      )\n",
       "      (2): C3(\n",
       "        (cv1): Conv(\n",
       "          (conv): Conv2d(64, 32, kernel_size=(1, 1), stride=(1, 1))\n",
       "          (act): SiLU(inplace=True)\n",
       "        )\n",
       "        (cv2): Conv(\n",
       "          (conv): Conv2d(64, 32, kernel_size=(1, 1), stride=(1, 1))\n",
       "          (act): SiLU(inplace=True)\n",
       "        )\n",
       "        (cv3): Conv(\n",
       "          (conv): Conv2d(64, 64, kernel_size=(1, 1), stride=(1, 1))\n",
       "          (act): SiLU(inplace=True)\n",
       "        )\n",
       "        (m): Sequential(\n",
       "          (0): Bottleneck(\n",
       "            (cv1): Conv(\n",
       "              (conv): Conv2d(32, 32, kernel_size=(1, 1), stride=(1, 1))\n",
       "              (act): SiLU(inplace=True)\n",
       "            )\n",
       "            (cv2): Conv(\n",
       "              (conv): Conv2d(32, 32, kernel_size=(3, 3), stride=(1, 1), padding=(1, 1))\n",
       "              (act): SiLU(inplace=True)\n",
       "            )\n",
       "          )\n",
       "        )\n",
       "      )\n",
       "      (3): Conv(\n",
       "        (conv): Conv2d(64, 128, kernel_size=(3, 3), stride=(2, 2), padding=(1, 1))\n",
       "        (act): SiLU(inplace=True)\n",
       "      )\n",
       "      (4): C3(\n",
       "        (cv1): Conv(\n",
       "          (conv): Conv2d(128, 64, kernel_size=(1, 1), stride=(1, 1))\n",
       "          (act): SiLU(inplace=True)\n",
       "        )\n",
       "        (cv2): Conv(\n",
       "          (conv): Conv2d(128, 64, kernel_size=(1, 1), stride=(1, 1))\n",
       "          (act): SiLU(inplace=True)\n",
       "        )\n",
       "        (cv3): Conv(\n",
       "          (conv): Conv2d(128, 128, kernel_size=(1, 1), stride=(1, 1))\n",
       "          (act): SiLU(inplace=True)\n",
       "        )\n",
       "        (m): Sequential(\n",
       "          (0): Bottleneck(\n",
       "            (cv1): Conv(\n",
       "              (conv): Conv2d(64, 64, kernel_size=(1, 1), stride=(1, 1))\n",
       "              (act): SiLU(inplace=True)\n",
       "            )\n",
       "            (cv2): Conv(\n",
       "              (conv): Conv2d(64, 64, kernel_size=(3, 3), stride=(1, 1), padding=(1, 1))\n",
       "              (act): SiLU(inplace=True)\n",
       "            )\n",
       "          )\n",
       "          (1): Bottleneck(\n",
       "            (cv1): Conv(\n",
       "              (conv): Conv2d(64, 64, kernel_size=(1, 1), stride=(1, 1))\n",
       "              (act): SiLU(inplace=True)\n",
       "            )\n",
       "            (cv2): Conv(\n",
       "              (conv): Conv2d(64, 64, kernel_size=(3, 3), stride=(1, 1), padding=(1, 1))\n",
       "              (act): SiLU(inplace=True)\n",
       "            )\n",
       "          )\n",
       "          (2): Bottleneck(\n",
       "            (cv1): Conv(\n",
       "              (conv): Conv2d(64, 64, kernel_size=(1, 1), stride=(1, 1))\n",
       "              (act): SiLU(inplace=True)\n",
       "            )\n",
       "            (cv2): Conv(\n",
       "              (conv): Conv2d(64, 64, kernel_size=(3, 3), stride=(1, 1), padding=(1, 1))\n",
       "              (act): SiLU(inplace=True)\n",
       "            )\n",
       "          )\n",
       "        )\n",
       "      )\n",
       "      (5): Conv(\n",
       "        (conv): Conv2d(128, 256, kernel_size=(3, 3), stride=(2, 2), padding=(1, 1))\n",
       "        (act): SiLU(inplace=True)\n",
       "      )\n",
       "      (6): C3(\n",
       "        (cv1): Conv(\n",
       "          (conv): Conv2d(256, 128, kernel_size=(1, 1), stride=(1, 1))\n",
       "          (act): SiLU(inplace=True)\n",
       "        )\n",
       "        (cv2): Conv(\n",
       "          (conv): Conv2d(256, 128, kernel_size=(1, 1), stride=(1, 1))\n",
       "          (act): SiLU(inplace=True)\n",
       "        )\n",
       "        (cv3): Conv(\n",
       "          (conv): Conv2d(256, 256, kernel_size=(1, 1), stride=(1, 1))\n",
       "          (act): SiLU(inplace=True)\n",
       "        )\n",
       "        (m): Sequential(\n",
       "          (0): Bottleneck(\n",
       "            (cv1): Conv(\n",
       "              (conv): Conv2d(128, 128, kernel_size=(1, 1), stride=(1, 1))\n",
       "              (act): SiLU(inplace=True)\n",
       "            )\n",
       "            (cv2): Conv(\n",
       "              (conv): Conv2d(128, 128, kernel_size=(3, 3), stride=(1, 1), padding=(1, 1))\n",
       "              (act): SiLU(inplace=True)\n",
       "            )\n",
       "          )\n",
       "          (1): Bottleneck(\n",
       "            (cv1): Conv(\n",
       "              (conv): Conv2d(128, 128, kernel_size=(1, 1), stride=(1, 1))\n",
       "              (act): SiLU(inplace=True)\n",
       "            )\n",
       "            (cv2): Conv(\n",
       "              (conv): Conv2d(128, 128, kernel_size=(3, 3), stride=(1, 1), padding=(1, 1))\n",
       "              (act): SiLU(inplace=True)\n",
       "            )\n",
       "          )\n",
       "          (2): Bottleneck(\n",
       "            (cv1): Conv(\n",
       "              (conv): Conv2d(128, 128, kernel_size=(1, 1), stride=(1, 1))\n",
       "              (act): SiLU(inplace=True)\n",
       "            )\n",
       "            (cv2): Conv(\n",
       "              (conv): Conv2d(128, 128, kernel_size=(3, 3), stride=(1, 1), padding=(1, 1))\n",
       "              (act): SiLU(inplace=True)\n",
       "            )\n",
       "          )\n",
       "        )\n",
       "      )\n",
       "      (7): Conv(\n",
       "        (conv): Conv2d(256, 512, kernel_size=(3, 3), stride=(2, 2), padding=(1, 1))\n",
       "        (act): SiLU(inplace=True)\n",
       "      )\n",
       "      (8): SPP(\n",
       "        (cv1): Conv(\n",
       "          (conv): Conv2d(512, 256, kernel_size=(1, 1), stride=(1, 1))\n",
       "          (act): SiLU(inplace=True)\n",
       "        )\n",
       "        (cv2): Conv(\n",
       "          (conv): Conv2d(1024, 512, kernel_size=(1, 1), stride=(1, 1))\n",
       "          (act): SiLU(inplace=True)\n",
       "        )\n",
       "        (m): ModuleList(\n",
       "          (0): MaxPool2d(kernel_size=5, stride=1, padding=2, dilation=1, ceil_mode=False)\n",
       "          (1): MaxPool2d(kernel_size=9, stride=1, padding=4, dilation=1, ceil_mode=False)\n",
       "          (2): MaxPool2d(kernel_size=13, stride=1, padding=6, dilation=1, ceil_mode=False)\n",
       "        )\n",
       "      )\n",
       "      (9): C3(\n",
       "        (cv1): Conv(\n",
       "          (conv): Conv2d(512, 256, kernel_size=(1, 1), stride=(1, 1))\n",
       "          (act): SiLU(inplace=True)\n",
       "        )\n",
       "        (cv2): Conv(\n",
       "          (conv): Conv2d(512, 256, kernel_size=(1, 1), stride=(1, 1))\n",
       "          (act): SiLU(inplace=True)\n",
       "        )\n",
       "        (cv3): Conv(\n",
       "          (conv): Conv2d(512, 512, kernel_size=(1, 1), stride=(1, 1))\n",
       "          (act): SiLU(inplace=True)\n",
       "        )\n",
       "        (m): Sequential(\n",
       "          (0): Bottleneck(\n",
       "            (cv1): Conv(\n",
       "              (conv): Conv2d(256, 256, kernel_size=(1, 1), stride=(1, 1))\n",
       "              (act): SiLU(inplace=True)\n",
       "            )\n",
       "            (cv2): Conv(\n",
       "              (conv): Conv2d(256, 256, kernel_size=(3, 3), stride=(1, 1), padding=(1, 1))\n",
       "              (act): SiLU(inplace=True)\n",
       "            )\n",
       "          )\n",
       "        )\n",
       "      )\n",
       "      (10): Conv(\n",
       "        (conv): Conv2d(512, 256, kernel_size=(1, 1), stride=(1, 1))\n",
       "        (act): SiLU(inplace=True)\n",
       "      )\n",
       "      (11): Upsample(scale_factor=2.0, mode=nearest)\n",
       "      (12): Concat()\n",
       "      (13): C3(\n",
       "        (cv1): Conv(\n",
       "          (conv): Conv2d(512, 128, kernel_size=(1, 1), stride=(1, 1))\n",
       "          (act): SiLU(inplace=True)\n",
       "        )\n",
       "        (cv2): Conv(\n",
       "          (conv): Conv2d(512, 128, kernel_size=(1, 1), stride=(1, 1))\n",
       "          (act): SiLU(inplace=True)\n",
       "        )\n",
       "        (cv3): Conv(\n",
       "          (conv): Conv2d(256, 256, kernel_size=(1, 1), stride=(1, 1))\n",
       "          (act): SiLU(inplace=True)\n",
       "        )\n",
       "        (m): Sequential(\n",
       "          (0): Bottleneck(\n",
       "            (cv1): Conv(\n",
       "              (conv): Conv2d(128, 128, kernel_size=(1, 1), stride=(1, 1))\n",
       "              (act): SiLU(inplace=True)\n",
       "            )\n",
       "            (cv2): Conv(\n",
       "              (conv): Conv2d(128, 128, kernel_size=(3, 3), stride=(1, 1), padding=(1, 1))\n",
       "              (act): SiLU(inplace=True)\n",
       "            )\n",
       "          )\n",
       "        )\n",
       "      )\n",
       "      (14): Conv(\n",
       "        (conv): Conv2d(256, 128, kernel_size=(1, 1), stride=(1, 1))\n",
       "        (act): SiLU(inplace=True)\n",
       "      )\n",
       "      (15): Upsample(scale_factor=2.0, mode=nearest)\n",
       "      (16): Concat()\n",
       "      (17): C3(\n",
       "        (cv1): Conv(\n",
       "          (conv): Conv2d(256, 64, kernel_size=(1, 1), stride=(1, 1))\n",
       "          (act): SiLU(inplace=True)\n",
       "        )\n",
       "        (cv2): Conv(\n",
       "          (conv): Conv2d(256, 64, kernel_size=(1, 1), stride=(1, 1))\n",
       "          (act): SiLU(inplace=True)\n",
       "        )\n",
       "        (cv3): Conv(\n",
       "          (conv): Conv2d(128, 128, kernel_size=(1, 1), stride=(1, 1))\n",
       "          (act): SiLU(inplace=True)\n",
       "        )\n",
       "        (m): Sequential(\n",
       "          (0): Bottleneck(\n",
       "            (cv1): Conv(\n",
       "              (conv): Conv2d(64, 64, kernel_size=(1, 1), stride=(1, 1))\n",
       "              (act): SiLU(inplace=True)\n",
       "            )\n",
       "            (cv2): Conv(\n",
       "              (conv): Conv2d(64, 64, kernel_size=(3, 3), stride=(1, 1), padding=(1, 1))\n",
       "              (act): SiLU(inplace=True)\n",
       "            )\n",
       "          )\n",
       "        )\n",
       "      )\n",
       "      (18): Conv(\n",
       "        (conv): Conv2d(128, 128, kernel_size=(3, 3), stride=(2, 2), padding=(1, 1))\n",
       "        (act): SiLU(inplace=True)\n",
       "      )\n",
       "      (19): Concat()\n",
       "      (20): C3(\n",
       "        (cv1): Conv(\n",
       "          (conv): Conv2d(256, 128, kernel_size=(1, 1), stride=(1, 1))\n",
       "          (act): SiLU(inplace=True)\n",
       "        )\n",
       "        (cv2): Conv(\n",
       "          (conv): Conv2d(256, 128, kernel_size=(1, 1), stride=(1, 1))\n",
       "          (act): SiLU(inplace=True)\n",
       "        )\n",
       "        (cv3): Conv(\n",
       "          (conv): Conv2d(256, 256, kernel_size=(1, 1), stride=(1, 1))\n",
       "          (act): SiLU(inplace=True)\n",
       "        )\n",
       "        (m): Sequential(\n",
       "          (0): Bottleneck(\n",
       "            (cv1): Conv(\n",
       "              (conv): Conv2d(128, 128, kernel_size=(1, 1), stride=(1, 1))\n",
       "              (act): SiLU(inplace=True)\n",
       "            )\n",
       "            (cv2): Conv(\n",
       "              (conv): Conv2d(128, 128, kernel_size=(3, 3), stride=(1, 1), padding=(1, 1))\n",
       "              (act): SiLU(inplace=True)\n",
       "            )\n",
       "          )\n",
       "        )\n",
       "      )\n",
       "      (21): Conv(\n",
       "        (conv): Conv2d(256, 256, kernel_size=(3, 3), stride=(2, 2), padding=(1, 1))\n",
       "        (act): SiLU(inplace=True)\n",
       "      )\n",
       "      (22): Concat()\n",
       "      (23): C3(\n",
       "        (cv1): Conv(\n",
       "          (conv): Conv2d(512, 256, kernel_size=(1, 1), stride=(1, 1))\n",
       "          (act): SiLU(inplace=True)\n",
       "        )\n",
       "        (cv2): Conv(\n",
       "          (conv): Conv2d(512, 256, kernel_size=(1, 1), stride=(1, 1))\n",
       "          (act): SiLU(inplace=True)\n",
       "        )\n",
       "        (cv3): Conv(\n",
       "          (conv): Conv2d(512, 512, kernel_size=(1, 1), stride=(1, 1))\n",
       "          (act): SiLU(inplace=True)\n",
       "        )\n",
       "        (m): Sequential(\n",
       "          (0): Bottleneck(\n",
       "            (cv1): Conv(\n",
       "              (conv): Conv2d(256, 256, kernel_size=(1, 1), stride=(1, 1))\n",
       "              (act): SiLU(inplace=True)\n",
       "            )\n",
       "            (cv2): Conv(\n",
       "              (conv): Conv2d(256, 256, kernel_size=(3, 3), stride=(1, 1), padding=(1, 1))\n",
       "              (act): SiLU(inplace=True)\n",
       "            )\n",
       "          )\n",
       "        )\n",
       "      )\n",
       "      (24): Detect(\n",
       "        (m): ModuleList(\n",
       "          (0): Conv2d(128, 255, kernel_size=(1, 1), stride=(1, 1))\n",
       "          (1): Conv2d(256, 255, kernel_size=(1, 1), stride=(1, 1))\n",
       "          (2): Conv2d(512, 255, kernel_size=(1, 1), stride=(1, 1))\n",
       "        )\n",
       "      )\n",
       "    )\n",
       "  )\n",
       ")"
      ]
     },
     "execution_count": 16,
     "metadata": {},
     "output_type": "execute_result"
    }
   ],
   "source": [
    "model"
   ]
  },
  {
   "cell_type": "code",
   "execution_count": 18,
   "metadata": {},
   "outputs": [],
   "source": [
    "img =\"https//ultralytics.com/images/zidane.jpg\""
   ]
  },
  {
   "cell_type": "code",
   "execution_count": 19,
   "metadata": {},
   "outputs": [],
   "source": [
    "img = 'https://ultralytics.com/images/zidane.jpg'"
   ]
  },
  {
   "cell_type": "code",
   "execution_count": 20,
   "metadata": {},
   "outputs": [],
   "source": [
    "results = model(img)"
   ]
  },
  {
   "cell_type": "code",
   "execution_count": 21,
   "metadata": {},
   "outputs": [
    {
     "name": "stderr",
     "output_type": "stream",
     "text": [
      "image 1/1: 720x1280 2 persons, 2 ties\n",
      "Speed: 959.7ms pre-process, 141.6ms inference, 1.1ms NMS per image at shape (1, 3, 384, 640)\n"
     ]
    }
   ],
   "source": [
    "results.print()"
   ]
  },
  {
   "cell_type": "code",
   "execution_count": 22,
   "metadata": {},
   "outputs": [
    {
     "data": {
      "image/png": "[encoded data removed]",
      "text/plain": [
       "<Figure size 432x288 with 1 Axes>"
      ]
     },
     "metadata": {
      "needs_background": "light"
     },
     "output_type": "display_data"
    }
   ],
   "source": [
    "%matplotlib inline \n",
    "plt.imshow(np.squeeze(results.render()))\n",
    "plt.show()\n"
   ]
  },
  {
   "cell_type": "code",
   "execution_count": 23,
   "metadata": {},
   "outputs": [],
   "source": [
    "results.show()"
   ]
  },
  {
   "cell_type": "code",
   "execution_count": 41,
   "metadata": {},
   "outputs": [],
   "source": [
    "cap = cv2.VideoCapture(0)\n",
    "while cap.isOpened():\n",
    "    ret, frame = cap.read()\n",
    "    \n",
    "    # Make detections \n",
    "    results = model(frame)\n",
    "    \n",
    "    cv2.imshow('YOLO', np.squeeze(results.render()))\n",
    "    \n",
    "    if cv2.waitKey(10) & 0xFF == ord('q'):\n",
    "        break\n",
    "cap.release()\n",
    "cv2.destroyAllWindows()"
   ]
  },
  {
   "cell_type": "code",
   "execution_count": 11,
   "metadata": {},
   "outputs": [],
   "source": [
    "import uuid   # Unique identifier\n",
    "import os\n",
    "import time"
   ]
  },
  {
   "cell_type": "code",
   "execution_count": 42,
   "metadata": {},
   "outputs": [],
   "source": [
    "IMAGES_PATH = os.path.join('data', 'images') #/data/images\n",
    "labels = ['awake', 'drowsy']\n",
    "number_imgs = 20\n"
   ]
  },
  {
   "cell_type": "code",
   "execution_count": 43,
   "metadata": {
    "scrolled": true
   },
   "outputs": [
    {
     "name": "stdout",
     "output_type": "stream",
     "text": [
      "Collecting images for awake\n",
      "Collecting images for awake, image number 0\n",
      "Collecting images for awake, image number 1\n",
      "Collecting images for awake, image number 2\n",
      "Collecting images for awake, image number 3\n",
      "Collecting images for awake, image number 4\n",
      "Collecting images for awake, image number 5\n",
      "Collecting images for awake, image number 6\n",
      "Collecting images for awake, image number 7\n",
      "Collecting images for awake, image number 8\n",
      "Collecting images for awake, image number 9\n",
      "Collecting images for awake, image number 10\n",
      "Collecting images for awake, image number 11\n",
      "Collecting images for awake, image number 12\n",
      "Collecting images for awake, image number 13\n",
      "Collecting images for awake, image number 14\n",
      "Collecting images for awake, image number 15\n",
      "Collecting images for awake, image number 16\n",
      "Collecting images for awake, image number 17\n",
      "Collecting images for awake, image number 18\n",
      "Collecting images for awake, image number 19\n",
      "Collecting images for drowsy\n",
      "Collecting images for drowsy, image number 0\n",
      "Collecting images for drowsy, image number 1\n",
      "Collecting images for drowsy, image number 2\n",
      "Collecting images for drowsy, image number 3\n",
      "Collecting images for drowsy, image number 4\n",
      "Collecting images for drowsy, image number 5\n",
      "Collecting images for drowsy, image number 6\n",
      "Collecting images for drowsy, image number 7\n",
      "Collecting images for drowsy, image number 8\n",
      "Collecting images for drowsy, image number 9\n",
      "Collecting images for drowsy, image number 10\n",
      "Collecting images for drowsy, image number 11\n",
      "Collecting images for drowsy, image number 12\n",
      "Collecting images for drowsy, image number 13\n",
      "Collecting images for drowsy, image number 14\n",
      "Collecting images for drowsy, image number 15\n",
      "Collecting images for drowsy, image number 16\n",
      "Collecting images for drowsy, image number 17\n",
      "Collecting images for drowsy, image number 18\n",
      "Collecting images for drowsy, image number 19\n"
     ]
    }
   ],
   "source": [
    "cap = cv2.VideoCapture(0)\n",
    "# Loop through labels\n",
    "for label in labels:\n",
    "    print('Collecting images for {}'.format(label))\n",
    "    time.sleep(5)\n",
    "    \n",
    "    # Loop through image range\n",
    "    for img_num in range(number_imgs):\n",
    "        print('Collecting images for {}, image number {}'.format(label, img_num))\n",
    "        \n",
    "        # Webcam feed\n",
    "        ret, frame = cap.read()\n",
    "        \n",
    "        # Naming out image path\n",
    "        imgname = os.path.join(IMAGES_PATH, label+'.'+str(uuid.uuid1())+'.jpg')\n",
    "        \n",
    "        # Writes out image to file \n",
    "        cv2.imwrite(imgname, frame)\n",
    "        \n",
    "        # Render to the screen\n",
    "        cv2.imshow('Image Collection', frame)\n",
    "        \n",
    "        # 2 second delay between captures\n",
    "        time.sleep(2)\n",
    "        \n",
    "        if cv2.waitKey(10) & 0xFF == ord('q'):\n",
    "            break\n",
    "cap.release()\n",
    "cv2.destroyAllWindows()"
   ]
  },
  {
   "cell_type": "code",
   "execution_count": 39,
   "metadata": {
    "scrolled": true
   },
   "outputs": [
    {
     "name": "stdout",
     "output_type": "stream",
     "text": [
      "data/images/awake.0c28aa86-29e7-11ec-add8-8d8459e65bf7.jpg\n"
     ]
    }
   ],
   "source": [
    "print(os.path.join(IMAGES_PATH, labels[0]+'.'+str(uuid.uuid1())+'.jpg'))"
   ]
  },
  {
   "cell_type": "code",
   "execution_count": 46,
   "metadata": {},
   "outputs": [
    {
     "name": "stdout",
     "output_type": "stream",
     "text": [
      "Collecting images for awake\n",
      "Collecting images for awake, image number 0\n",
      "data/images/awake.04c29e36-29e8-11ec-add8-8d8459e65bf7.jpg\n",
      "Collecting images for awake, image number 1\n",
      "data/images/awake.04c2a1a6-29e8-11ec-add8-8d8459e65bf7.jpg\n",
      "Collecting images for awake, image number 2\n",
      "data/images/awake.04c2a43a-29e8-11ec-add8-8d8459e65bf7.jpg\n",
      "Collecting images for awake, image number 3\n",
      "data/images/awake.04c2a6a6-29e8-11ec-add8-8d8459e65bf7.jpg\n",
      "Collecting images for awake, image number 4\n",
      "data/images/awake.04c2a8f4-29e8-11ec-add8-8d8459e65bf7.jpg\n",
      "Collecting images for awake, image number 5\n",
      "data/images/awake.04c2ab4c-29e8-11ec-add8-8d8459e65bf7.jpg\n",
      "Collecting images for awake, image number 6\n",
      "data/images/awake.04c2ad9a-29e8-11ec-add8-8d8459e65bf7.jpg\n",
      "Collecting images for awake, image number 7\n",
      "data/images/awake.04c2afe8-29e8-11ec-add8-8d8459e65bf7.jpg\n",
      "Collecting images for awake, image number 8\n",
      "data/images/awake.04c2b22c-29e8-11ec-add8-8d8459e65bf7.jpg\n",
      "Collecting images for awake, image number 9\n",
      "data/images/awake.04c2b484-29e8-11ec-add8-8d8459e65bf7.jpg\n",
      "Collecting images for awake, image number 10\n",
      "data/images/awake.04c2b6c8-29e8-11ec-add8-8d8459e65bf7.jpg\n",
      "Collecting images for awake, image number 11\n",
      "data/images/awake.04c2b916-29e8-11ec-add8-8d8459e65bf7.jpg\n",
      "Collecting images for awake, image number 12\n",
      "data/images/awake.04c2bb50-29e8-11ec-add8-8d8459e65bf7.jpg\n",
      "Collecting images for awake, image number 13\n",
      "data/images/awake.04c2bda8-29e8-11ec-add8-8d8459e65bf7.jpg\n",
      "Collecting images for awake, image number 14\n",
      "data/images/awake.04c2bfe2-29e8-11ec-add8-8d8459e65bf7.jpg\n",
      "Collecting images for awake, image number 15\n",
      "data/images/awake.04c2c2bc-29e8-11ec-add8-8d8459e65bf7.jpg\n",
      "Collecting images for awake, image number 16\n",
      "data/images/awake.04c2c50a-29e8-11ec-add8-8d8459e65bf7.jpg\n",
      "Collecting images for awake, image number 17\n",
      "data/images/awake.04c2c762-29e8-11ec-add8-8d8459e65bf7.jpg\n",
      "Collecting images for awake, image number 18\n",
      "data/images/awake.04c2c99c-29e8-11ec-add8-8d8459e65bf7.jpg\n",
      "Collecting images for awake, image number 19\n",
      "data/images/awake.04c2cbea-29e8-11ec-add8-8d8459e65bf7.jpg\n",
      "Collecting images for drowsy\n",
      "Collecting images for drowsy, image number 0\n",
      "data/images/drowsy.04c2cf32-29e8-11ec-add8-8d8459e65bf7.jpg\n",
      "Collecting images for drowsy, image number 1\n",
      "data/images/drowsy.04c2d194-29e8-11ec-add8-8d8459e65bf7.jpg\n",
      "Collecting images for drowsy, image number 2\n",
      "data/images/drowsy.04c2d3ce-29e8-11ec-add8-8d8459e65bf7.jpg\n",
      "Collecting images for drowsy, image number 3\n",
      "data/images/drowsy.04c2d626-29e8-11ec-add8-8d8459e65bf7.jpg\n",
      "Collecting images for drowsy, image number 4\n",
      "data/images/drowsy.04c2d860-29e8-11ec-add8-8d8459e65bf7.jpg\n",
      "Collecting images for drowsy, image number 5\n",
      "data/images/drowsy.04c2dae0-29e8-11ec-add8-8d8459e65bf7.jpg\n",
      "Collecting images for drowsy, image number 6\n",
      "data/images/drowsy.04c2dd42-29e8-11ec-add8-8d8459e65bf7.jpg\n",
      "Collecting images for drowsy, image number 7\n",
      "data/images/drowsy.04c2dfcc-29e8-11ec-add8-8d8459e65bf7.jpg\n",
      "Collecting images for drowsy, image number 8\n",
      "data/images/drowsy.04c2e210-29e8-11ec-add8-8d8459e65bf7.jpg\n",
      "Collecting images for drowsy, image number 9\n",
      "data/images/drowsy.04c2e468-29e8-11ec-add8-8d8459e65bf7.jpg\n",
      "Collecting images for drowsy, image number 10\n",
      "data/images/drowsy.04c2e6a2-29e8-11ec-add8-8d8459e65bf7.jpg\n",
      "Collecting images for drowsy, image number 11\n",
      "data/images/drowsy.04c2e8f0-29e8-11ec-add8-8d8459e65bf7.jpg\n",
      "Collecting images for drowsy, image number 12\n",
      "data/images/drowsy.04c2eb34-29e8-11ec-add8-8d8459e65bf7.jpg\n",
      "Collecting images for drowsy, image number 13\n",
      "data/images/drowsy.04c2edb4-29e8-11ec-add8-8d8459e65bf7.jpg\n",
      "Collecting images for drowsy, image number 14\n",
      "data/images/drowsy.04c2f016-29e8-11ec-add8-8d8459e65bf7.jpg\n",
      "Collecting images for drowsy, image number 15\n",
      "data/images/drowsy.04c2f296-29e8-11ec-add8-8d8459e65bf7.jpg\n",
      "Collecting images for drowsy, image number 16\n",
      "data/images/drowsy.04c2f4e4-29e8-11ec-add8-8d8459e65bf7.jpg\n",
      "Collecting images for drowsy, image number 17\n",
      "data/images/drowsy.04c2f732-29e8-11ec-add8-8d8459e65bf7.jpg\n",
      "Collecting images for drowsy, image number 18\n",
      "data/images/drowsy.04c2f96c-29e8-11ec-add8-8d8459e65bf7.jpg\n",
      "Collecting images for drowsy, image number 19\n",
      "data/images/drowsy.04c2fbba-29e8-11ec-add8-8d8459e65bf7.jpg\n"
     ]
    }
   ],
   "source": [
    "for label in labels:\n",
    "    print('Collecting images for {}'.format(label))\n",
    "    for img_num in range(number_imgs):\n",
    "        print('Collecting images for {}, image number {}'.format(label, img_num))\n",
    "        imgname = os.path.join(IMAGES_PATH, label+'.'+str(uuid.uuid1())+'.jpg')\n",
    "        print(imgname)"
   ]
  },
  {
   "cell_type": "code",
   "execution_count": 47,
   "metadata": {},
   "outputs": [
    {
     "name": "stdout",
     "output_type": "stream",
     "text": [
      "Cloning into 'labelImg'...\n",
      "remote: Enumerating objects: 1849, done.\u001b[K\n",
      "remote: Counting objects: 100% (90/90), done.\u001b[K\n",
      "remote: Compressing objects: 100% (66/66), done.\u001b[K\n",
      "remote: Total 1849 (delta 39), reused 55 (delta 19), pack-reused 1759\u001b[K\n",
      "Receiving objects: 100% (1849/1849), 232.81 MiB | 1.98 MiB/s, done.\n",
      "Resolving deltas: 100% (1087/1087), done.\n"
     ]
    }
   ],
   "source": [
    "!git clone https://github.com/tzutalin/labelImg\n",
    "    "
   ]
  },
  {
   "cell_type": "code",
   "execution_count": null,
   "metadata": {},
   "outputs": [],
   "source": [
    "!sudo apt-get install pyqt5-dev-tools"
   ]
  },
  {
   "cell_type": "code",
   "execution_count": 2,
   "metadata": {},
   "outputs": [
    {
     "name": "stdout",
     "output_type": "stream",
     "text": [
      "\u001b[34m\u001b[1mtrain: \u001b[0mweights=yolov5s.pt, cfg=, data=dataset.yml, hyp=data/hyps/hyp.scratch.yaml, epochs=500, batch_size=16, imgsz=320, rect=False, resume=False, nosave=False, noval=False, noautoanchor=False, evolve=None, bucket=, cache=None, image_weights=False, device=, multi_scale=False, single_cls=False, adam=False, sync_bn=False, workers=8, project=runs/train, name=exp, exist_ok=False, quad=False, linear_lr=False, label_smoothing=0.0, patience=100, freeze=0, save_period=-1, local_rank=-1, entity=None, upload_dataset=False, bbox_interval=-1, artifact_alias=latest\n",
      "\u001b[34m\u001b[1mgithub: \u001b[0mup to date with https://github.com/ultralytics/yolov5 ✅\n",
      "Traceback (most recent call last):\n",
      "  File \"train.py\", line 620, in <module>\n",
      "    main(opt)\n",
      "  File \"train.py\", line 497, in main\n",
      "    check_file(opt.data), check_yaml(opt.cfg), check_yaml(opt.hyp), str(opt.weights), str(opt.project)  # checks\n",
      "  File \"/home/ayoub/Desktop/hakima /yolov5/utils/general.py\", line 326, in check_file\n",
      "    assert len(files), f'File not found: {file}'  # assert file was found\n",
      "AssertionError: File not found: dataset.yml\n"
     ]
    }
   ],
   "source": [
    "!cd yolov5 && python train.py --img 320 --batch 16 --epochs 500 --data dataset.yml --weights yolov5s.pt"
   ]
  },
  {
   "cell_type": "code",
   "execution_count": null,
   "metadata": {},
   "outputs": [],
   "source": []
  },
  {
   "cell_type": "code",
   "execution_count": 11,
   "metadata": {},
   "outputs": [
    {
     "name": "stdout",
     "output_type": "stream",
     "text": [
      "/bin/bash: line 0: cd: yolov5: No such file or directory\r\n"
     ]
    }
   ],
   "source": [
    "!cd yolov5 && python train.py --img 320 --batch 16 --epochs 500 --data dataset.yml --weights yolov5s.pt --workers 2\n"
   ]
  },
  {
   "cell_type": "code",
   "execution_count": 4,
   "metadata": {},
   "outputs": [
    {
     "name": "stdout",
     "output_type": "stream",
     "text": [
      "python: can't open file 'train.py': [Errno 2] No such file or directory\r\n"
     ]
    }
   ],
   "source": [
    " !python train.py --img 640 --batch 16 --epochs 3 --data dataset.yaml --weights yolov5s.pt"
   ]
  },
  {
   "cell_type": "code",
   "execution_count": 6,
   "metadata": {},
   "outputs": [
    {
     "name": "stdout",
     "output_type": "stream",
     "text": [
      "Untitled.ipynb\tyolov5\r\n"
     ]
    }
   ],
   "source": [
    "!ls"
   ]
  },
  {
   "cell_type": "code",
   "execution_count": 7,
   "metadata": {},
   "outputs": [
    {
     "name": "stdout",
     "output_type": "stream",
     "text": [
      "/home/ayoub/Desktop/hakima /yolov5\n"
     ]
    }
   ],
   "source": [
    "cd yolov5\n"
   ]
  },
  {
   "cell_type": "code",
   "execution_count": 15,
   "metadata": {},
   "outputs": [
    {
     "name": "stdout",
     "output_type": "stream",
     "text": [
      "\u001b[34m\u001b[1mtrain: \u001b[0mweights=yolov5s.pt, cfg=, data=dataset.yml, hyp=data/hyps/hyp.scratch.yaml, epochs=500, batch_size=16, imgsz=320, rect=False, resume=False, nosave=False, noval=False, noautoanchor=False, evolve=None, bucket=, cache=None, image_weights=False, device=, multi_scale=False, single_cls=False, adam=False, sync_bn=False, workers=2, project=runs/train, name=exp, exist_ok=False, quad=False, linear_lr=False, label_smoothing=0.0, patience=100, freeze=0, save_period=-1, local_rank=-1, entity=None, upload_dataset=False, bbox_interval=-1, artifact_alias=latest\n",
      "\u001b[34m\u001b[1mgithub: \u001b[0mup to date with https://github.com/ultralytics/yolov5 ✅\n",
      "Traceback (most recent call last):\n",
      "  File \"train.py\", line 620, in <module>\n",
      "    main(opt)\n",
      "  File \"train.py\", line 497, in main\n",
      "    check_file(opt.data), check_yaml(opt.cfg), check_yaml(opt.hyp), str(opt.weights), str(opt.project)  # checks\n",
      "  File \"/home/ayoub/Desktop/hakima /yolov5/utils/general.py\", line 306, in check_yaml\n",
      "    return check_file(file, suffix)\n",
      "  File \"/home/ayoub/Desktop/hakima /yolov5/utils/general.py\", line 326, in check_file\n",
      "    assert len(files), f'File not found: {file}'  # assert file was found\n",
      "AssertionError: File not found: data/hyps/hyp.scratch.yaml\n"
     ]
    }
   ],
   "source": [
    "!python train.py --img 320 --batch 16 --epochs 500 --data dataset.yml --weights yolov5s.pt --workers 2\n"
   ]
  },
  {
   "cell_type": "code",
   "execution_count": 22,
   "metadata": {},
   "outputs": [
    {
     "ename": "SyntaxError",
     "evalue": "invalid syntax (<ipython-input-22-9c406e00f513>, line 1)",
     "output_type": "error",
     "traceback": [
      "\u001b[0;36m  File \u001b[0;32m\"<ipython-input-22-9c406e00f513>\"\u001b[0;36m, line \u001b[0;32m1\u001b[0m\n\u001b[0;31m    ..cd\u001b[0m\n\u001b[0m    ^\u001b[0m\n\u001b[0;31mSyntaxError\u001b[0m\u001b[0;31m:\u001b[0m invalid syntax\n"
     ]
    }
   ],
   "source": [
    "..cd"
   ]
  },
  {
   "cell_type": "code",
   "execution_count": 23,
   "metadata": {},
   "outputs": [
    {
     "ename": "SyntaxError",
     "evalue": "invalid syntax (<ipython-input-23-1baf4dd994b0>, line 1)",
     "output_type": "error",
     "traceback": [
      "\u001b[0;36m  File \u001b[0;32m\"<ipython-input-23-1baf4dd994b0>\"\u001b[0;36m, line \u001b[0;32m1\u001b[0m\n\u001b[0;31m    ../\u001b[0m\n\u001b[0m    ^\u001b[0m\n\u001b[0;31mSyntaxError\u001b[0m\u001b[0;31m:\u001b[0m invalid syntax\n"
     ]
    }
   ],
   "source": [
    "../"
   ]
  },
  {
   "cell_type": "code",
   "execution_count": 24,
   "metadata": {
    "scrolled": true
   },
   "outputs": [
    {
     "ename": "NameError",
     "evalue": "name 'torch' is not defined",
     "output_type": "error",
     "traceback": [
      "\u001b[0;31m---------------------------------------------------------------------------\u001b[0m",
      "\u001b[0;31mNameError\u001b[0m                                 Traceback (most recent call last)",
      "\u001b[0;32m<ipython-input-24-f8acc5312c42>\u001b[0m in \u001b[0;36m<module>\u001b[0;34m\u001b[0m\n\u001b[0;32m----> 1\u001b[0;31m \u001b[0mmodel\u001b[0m \u001b[0;34m=\u001b[0m \u001b[0mtorch\u001b[0m\u001b[0;34m.\u001b[0m\u001b[0mhub\u001b[0m\u001b[0;34m.\u001b[0m\u001b[0mload\u001b[0m\u001b[0;34m(\u001b[0m\u001b[0;34m'ultralytics/yolov5'\u001b[0m\u001b[0;34m,\u001b[0m \u001b[0;34m'custom'\u001b[0m\u001b[0;34m,\u001b[0m \u001b[0mpath\u001b[0m\u001b[0;34m=\u001b[0m\u001b[0;34m'runs/train/exp4/weights/last.pt'\u001b[0m\u001b[0;34m,\u001b[0m \u001b[0mforce_reload\u001b[0m\u001b[0;34m=\u001b[0m\u001b[0;32mTrue\u001b[0m\u001b[0;34m)\u001b[0m\u001b[0;34m\u001b[0m\u001b[0;34m\u001b[0m\u001b[0m\n\u001b[0m",
      "\u001b[0;31mNameError\u001b[0m: name 'torch' is not defined"
     ]
    }
   ],
   "source": []
  },
  {
   "cell_type": "code",
   "execution_count": 1,
   "metadata": {},
   "outputs": [
    {
     "data": {
      "text/plain": [
       "'/home/ayoub/Desktop/hakima '"
      ]
     },
     "execution_count": 1,
     "metadata": {},
     "output_type": "execute_result"
    }
   ],
   "source": [
    "pwd\n"
   ]
  },
  {
   "cell_type": "code",
   "execution_count": 2,
   "metadata": {},
   "outputs": [
    {
     "name": "stdout",
     "output_type": "stream",
     "text": [
      "Untitled.ipynb  \u001b[0m\u001b[01;34myolov5\u001b[0m/\r\n"
     ]
    }
   ],
   "source": [
    "ls\n"
   ]
  },
  {
   "cell_type": "code",
   "execution_count": 12,
   "metadata": {},
   "outputs": [
    {
     "name": "stderr",
     "output_type": "stream",
     "text": [
      "Downloading: \"https://github.com/ultralytics/yolov5/archive/master.zip\" to /home/ayoub/.cache/torch/hub/master.zip\n",
      "YOLOv5 🚀 2021-10-11 torch 1.8.2+cu102 CPU\n",
      "\n",
      "Fusing layers... \n",
      "Model Summary: 224 layers, 7099759 parameters, 0 gradients, 16.5 GFLOPs\n",
      "Adding AutoShape... \n"
     ]
    }
   ],
   "source": [
    "model = torch.hub.load('ultralytics/yolov5', 'custom', path='yolov5/runs/train/exp4/weights/last.pt', force_reload=True)\n"
   ]
  },
  {
   "cell_type": "code",
   "execution_count": 13,
   "metadata": {},
   "outputs": [],
   "source": [
    "cap = cv2.VideoCapture(0)\n",
    "while cap.isOpened():\n",
    "    ret, frame = cap.read()\n",
    "    \n",
    "    # Make detections \n",
    "    results = model(frame)\n",
    "    \n",
    "    cv2.imshow('YOLO', np.squeeze(results.render()))\n",
    "    \n",
    "    if cv2.waitKey(10) & 0xFF == ord('q'):\n",
    "        break\n",
    "cap.release()\n",
    "cv2.destroyAllWindows()"
   ]
  }
 ],
 "metadata": {
  "kernelspec": {
   "display_name": "Python 3",
   "language": "python",
   "name": "python3"
  },
  "language_info": {
   "codemirror_mode": {
    "name": "ipython",
    "version": 3
   },
   "file_extension": ".py",
   "mimetype": "text/x-python",
   "name": "python",
   "nbconvert_exporter": "python",
   "pygments_lexer": "ipython3",
   "version": "3.6.9"
  }
 },
 "nbformat": 4,
 "nbformat_minor": 4
}
